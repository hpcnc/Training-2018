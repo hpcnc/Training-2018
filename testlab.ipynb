{
 "cells": [
  {
   "cell_type": "markdown",
   "metadata": {},
   "source": [
    "Generate"
   ]
  },
  {
   "cell_type": "code",
   "execution_count": 5,
   "metadata": {},
   "outputs": [],
   "source": [
    "import math\n",
    "import numpy as np\n",
    "import random\n",
    "\n",
    "file_temp = open(\"Generate-Task1.txt\",\"w\") \n",
    "#N = int(input(\"Place number of sample : \"))\n",
    "N = 10000\n",
    "ID = 0\n",
    "list1=['A', 'B', 'C', 'N', '-']\n",
    "list2=['Photo', 'Apple', 'Book', 'Openmpi', 'Python', 'Sony', 'Camera', 'Free', 'Doll', 'Fantacy']\n",
    "list3=['1', '2', '3', '4', '5', '6', '7', '8', '9','10','11','12','13','14','15','3000000','66351737','23912','1092109','37298']\n",
    "\n",
    "file_temp.write(\"ID,Type,Name,Count\\n\")\n",
    "\n",
    "for i in range(N):\n",
    "    b=random.randint(0,4)\n",
    "    bb=random.randint(0,9)\n",
    "    bbb=random.randint(0,19)\n",
    "    file_temp.write(str(ID)+\",\"+str(list1[b])+\",\"+str(list2[bb])+\",\"+str(list3[bbb])+\"\\n\")\n",
    "    ID += 1\n",
    "     \n",
    "file_temp.close()"
   ]
  },
  {
   "cell_type": "code",
   "execution_count": null,
   "metadata": {},
   "outputs": [],
   "source": []
  },
  {
   "cell_type": "code",
   "execution_count": null,
   "metadata": {},
   "outputs": [],
   "source": []
  }
 ],
 "metadata": {
  "kernelspec": {
   "display_name": "Python3",
   "language": "python",
   "name": "python_3"
  },
  "language_info": {
   "codemirror_mode": {
    "name": "ipython",
    "version": 3
   },
   "file_extension": ".py",
   "mimetype": "text/x-python",
   "name": "python",
   "nbconvert_exporter": "python",
   "pygments_lexer": "ipython3",
   "version": "3.6.2"
  }
 },
 "nbformat": 4,
 "nbformat_minor": 2
}
